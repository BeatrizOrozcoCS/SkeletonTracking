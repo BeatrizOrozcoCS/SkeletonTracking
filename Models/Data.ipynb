{
 "cells": [
  {
   "cell_type": "code",
   "execution_count": 10,
   "id": "bc32bbb2",
   "metadata": {},
   "outputs": [],
   "source": [
    "import pandas as pd\n",
    "import numpy as np\n",
    "from sklearn.svm import SVC\n",
    "from sklearn import svm\n",
    "import seaborn as sns\n",
    "from sklearn.model_selection import train_test_split\n",
    "from sklearn.metrics import accuracy_score\n",
    "from matplotlib import pyplot as plt\n",
    "from sklearn import svm\n",
    "import operator as op"
   ]
  },
  {
   "cell_type": "code",
   "execution_count": 60,
   "id": "20f5e695",
   "metadata": {},
   "outputs": [],
   "source": [
    "fileWalkingSet = r\"C:\\Users\\Orozc\\OneDrive\\My Documents\\CPP\\ME 6950\\Test Set\\Walking\"\n",
    "fileNotWalking = r\"C:\\Users\\Orozc\\OneDrive\\My Documents\\CPP\\ME 6950\\Test Set\\Not Walking\"\n",
    "\n",
    "\n",
    "df = pd.read_csv('training_data.csv', index_col=False)\n",
    "data_training =  df.iloc[:, 1:60]\n",
    "\n",
    "data_walkingtraining = df.where(df[\"Label\"]=='moving').dropna()\n",
    "data_notwalkingtraining = df.where(df[\"Label\"]=='not moving').dropna()"
   ]
  },
  {
   "cell_type": "code",
   "execution_count": 64,
   "id": "4e4c347f",
   "metadata": {},
   "outputs": [
    {
     "name": "stdout",
     "output_type": "stream",
     "text": [
      "Walking Data Number of Values:  273\n",
      "Not Walking Data Number of Values:  909\n"
     ]
    }
   ],
   "source": [
    "\n",
    "#data /Date Time was messing with results, drop rows with na values in any columns\n",
    "\n",
    "print(\"Walking Data Number of Values: \", len(data_walkingtraining.dropna()))\n",
    "print(\"Not Walking Data Number of Values: \", len(data_notwalkingtraining.dropna()))\n",
    "\n"
   ]
  },
  {
   "cell_type": "code",
   "execution_count": null,
   "id": "0627f3f6",
   "metadata": {},
   "outputs": [],
   "source": []
  }
 ],
 "metadata": {
  "kernelspec": {
   "display_name": "Python 3 (ipykernel)",
   "language": "python",
   "name": "python3"
  },
  "language_info": {
   "codemirror_mode": {
    "name": "ipython",
    "version": 3
   },
   "file_extension": ".py",
   "mimetype": "text/x-python",
   "name": "python",
   "nbconvert_exporter": "python",
   "pygments_lexer": "ipython3",
   "version": "3.9.5"
  }
 },
 "nbformat": 4,
 "nbformat_minor": 5
}
